{
 "cells": [
  {
   "cell_type": "code",
   "execution_count": 8,
   "metadata": {},
   "outputs": [
    {
     "data": {
      "text/plain": [
       "'c:\\\\Users\\\\parenti daniele\\\\code-projects\\\\advent-of-code\\\\day2'"
      ]
     },
     "execution_count": 8,
     "metadata": {},
     "output_type": "execute_result"
    }
   ],
   "source": [
    "# import packages\n",
    "import os\n",
    "os.getcwd()"
   ]
  },
  {
   "cell_type": "code",
   "execution_count": 25,
   "metadata": {},
   "outputs": [
    {
     "name": "stdout",
     "output_type": "stream",
     "text": [
      "Game 1: 3 blue, 4 red; 1 red, 2 green, 6 blue; 2 green\n",
      "Game 2: 1 blue, 2 green; 3 green, 4 blue, 1 red; 1 green, 1 blue\n",
      "Game 3: 8 green, 6 blue, 20 red; 5 blue, 4 red, 13 green; 5 green, 1 red\n",
      "Game 4: 1 green, 3 red, 6 blue; 3 green, 6 red; 3 green, 15 blue, 14 red\n",
      "Game 5: 6 red, 1 blue, 3 green; 2 blue, 1 red, 2 green\n"
     ]
    }
   ],
   "source": [
    "#read in data\n",
    "with open(\"test.txt\") as f:\n",
    "    data = f.read()\n",
    "print(input)"
   ]
  },
  {
   "cell_type": "code",
   "execution_count": 30,
   "metadata": {},
   "outputs": [],
   "source": [
    "# create list of dicts where each dict is a game\n",
    "def parse_games(data):\n",
    "    games_list = []\n",
    "    for line in data.split('\\n'):\n",
    "        game_id, draws = line.split(': ')\n",
    "        draws_list = []\n",
    "        for draw in draws.split(\"; \"):\n",
    "            draw_dict={}\n",
    "            for part in draw.split(\", \"):\n",
    "                count, colour = part.split(\" \")\n",
    "                draw_dict[colour] = int(count)\n",
    "            draws_list.append(draw_dict)\n",
    "        games_list.append({\"game_id\":int(game_id.split(\" \")[1]), \"draws\":draws_list})\n",
    "    return games_list\n"
   ]
  },
  {
   "cell_type": "code",
   "execution_count": 34,
   "metadata": {},
   "outputs": [
    {
     "data": {
      "text/plain": [
       "[{'game_id': 1,\n",
       "  'draws': [{'blue': 3, 'red': 4},\n",
       "   {'red': 1, 'green': 2, 'blue': 6},\n",
       "   {'green': 2}]},\n",
       " {'game_id': 2,\n",
       "  'draws': [{'blue': 1, 'green': 2},\n",
       "   {'green': 3, 'blue': 4, 'red': 1},\n",
       "   {'green': 1, 'blue': 1}]},\n",
       " {'game_id': 3,\n",
       "  'draws': [{'green': 8, 'blue': 6, 'red': 20},\n",
       "   {'blue': 5, 'red': 4, 'green': 13},\n",
       "   {'green': 5, 'red': 1}]},\n",
       " {'game_id': 4,\n",
       "  'draws': [{'green': 1, 'red': 3, 'blue': 6},\n",
       "   {'green': 3, 'red': 6},\n",
       "   {'green': 3, 'blue': 15, 'red': 14}]},\n",
       " {'game_id': 5,\n",
       "  'draws': [{'red': 6, 'blue': 1, 'green': 3},\n",
       "   {'blue': 2, 'red': 1, 'green': 2}]}]"
      ]
     },
     "execution_count": 34,
     "metadata": {},
     "output_type": "execute_result"
    }
   ],
   "source": [
    "games = parse_games(input)\n",
    "games"
   ]
  },
  {
   "cell_type": "code",
   "execution_count": 48,
   "metadata": {},
   "outputs": [],
   "source": [
    "# find max value for each color per game by going through lists of draws\n",
    "def find_max_values(data):\n",
    "    max_cubes={}\n",
    "    for game in data:\n",
    "        game_id = game[\"game_id\"]\n",
    "        max_red, max_blue, max_green = 0, 0, 0\n",
    "        for draw in game[\"draws\"]:\n",
    "            max_red = max(max_red, draw.get('red', 0))\n",
    "            max_green = max(max_green, draw.get('green', 0))\n",
    "            max_blue = max(max_blue, draw.get('blue', 0))\n",
    "        max_cubes[game_id]={\"red\":max_red, \"blue\":max_blue, \"green\":max_green}\n",
    "    return max_cubes"
   ]
  },
  {
   "cell_type": "code",
   "execution_count": 49,
   "metadata": {},
   "outputs": [
    {
     "name": "stdout",
     "output_type": "stream",
     "text": [
      "{1: {'red': 4, 'blue': 6, 'green': 2}, 2: {'red': 1, 'blue': 4, 'green': 3}, 3: {'red': 20, 'blue': 6, 'green': 13}, 4: {'red': 14, 'blue': 15, 'green': 3}, 5: {'red': 6, 'blue': 2, 'green': 3}}\n"
     ]
    }
   ],
   "source": [
    "max_values = find_max_values(games)\n",
    "print(max_values)"
   ]
  },
  {
   "cell_type": "code",
   "execution_count": 52,
   "metadata": {},
   "outputs": [],
   "source": [
    "# iterate through dicts to compare against max values\n",
    "def valid_games(data):\n",
    "    max_red, max_green, max_blue = 12, 13, 14\n",
    "    valid_games_list = []\n",
    "    for game_id, colours in data.items():\n",
    "        print(game_id, colours)\n",
    "        if colours[\"red\"]<=max_red and colours[\"blue\"]<=max_blue and colours[\"green\"]<=max_green:\n",
    "            valid_games_list.append(int(game_id))\n",
    "    return valid_games_list\n"
   ]
  },
  {
   "cell_type": "code",
   "execution_count": 53,
   "metadata": {},
   "outputs": [
    {
     "name": "stdout",
     "output_type": "stream",
     "text": [
      "1 {'red': 4, 'blue': 6, 'green': 2}\n",
      "2 {'red': 1, 'blue': 4, 'green': 3}\n",
      "3 {'red': 20, 'blue': 6, 'green': 13}\n",
      "4 {'red': 14, 'blue': 15, 'green': 3}\n",
      "5 {'red': 6, 'blue': 2, 'green': 3}\n"
     ]
    },
    {
     "data": {
      "text/plain": [
       "[1, 2, 5]"
      ]
     },
     "execution_count": 53,
     "metadata": {},
     "output_type": "execute_result"
    }
   ],
   "source": [
    "valid_games(max_values)"
   ]
  },
  {
   "cell_type": "code",
   "execution_count": 54,
   "metadata": {},
   "outputs": [
    {
     "name": "stdout",
     "output_type": "stream",
     "text": [
      "1 {'red': 4, 'blue': 6, 'green': 2}\n",
      "2 {'red': 1, 'blue': 4, 'green': 3}\n",
      "3 {'red': 20, 'blue': 6, 'green': 13}\n",
      "4 {'red': 14, 'blue': 15, 'green': 3}\n",
      "5 {'red': 6, 'blue': 2, 'green': 3}\n"
     ]
    },
    {
     "data": {
      "text/plain": [
       "8"
      ]
     },
     "execution_count": 54,
     "metadata": {},
     "output_type": "execute_result"
    }
   ],
   "source": [
    "sum(valid_games(max_values))"
   ]
  },
  {
   "cell_type": "code",
   "execution_count": null,
   "metadata": {},
   "outputs": [],
   "source": []
  }
 ],
 "metadata": {
  "kernelspec": {
   "display_name": "advent",
   "language": "python",
   "name": "python3"
  },
  "language_info": {
   "codemirror_mode": {
    "name": "ipython",
    "version": 3
   },
   "file_extension": ".py",
   "mimetype": "text/x-python",
   "name": "python",
   "nbconvert_exporter": "python",
   "pygments_lexer": "ipython3",
   "version": "3.11.6"
  }
 },
 "nbformat": 4,
 "nbformat_minor": 2
}
