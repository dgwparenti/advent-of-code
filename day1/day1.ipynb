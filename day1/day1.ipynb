{
 "cells": [
  {
   "cell_type": "code",
   "execution_count": 1,
   "metadata": {},
   "outputs": [],
   "source": [
    "import pandas as pd\n",
    "import re"
   ]
  },
  {
   "cell_type": "code",
   "execution_count": 2,
   "metadata": {},
   "outputs": [],
   "source": [
    "filename = \"C:\\\\Users\\parenti daniele\\\\code-projects\\\\advent-of-code\\\\day1\\\\trebuchet-input.txt\"\n",
    "# filename = \"C:\\\\Users\\parenti daniele\\\\code-projects\\\\advent-of-code\\\\day1\\\\test.txt\""
   ]
  },
  {
   "cell_type": "markdown",
   "metadata": {},
   "source": [
    "## Part 1"
   ]
  },
  {
   "cell_type": "code",
   "execution_count": 3,
   "metadata": {},
   "outputs": [
    {
     "name": "stdout",
     "output_type": "stream",
     "text": [
      "54338\n"
     ]
    }
   ],
   "source": [
    "# put into a dataframe\n",
    "df =  pd.read_csv(filename, names=['input'])\n",
    "# extract first digit into a new column\n",
    "df['first'] = df['input'].str.extract('(\\d)')\n",
    "# extract last digit into a new column\n",
    "df['last'] = df['input'].str.extract('(\\d)[^\\d]*$')\n",
    "# concatenate columns\n",
    "df['concat']=df[\"first\"].astype(str) + df[\"last\"]\n",
    "df['concat']=df['concat'].astype(int)\n",
    "\n",
    "#sum column\n",
    "print(df['concat'].sum())"
   ]
  },
  {
   "cell_type": "markdown",
   "metadata": {},
   "source": [
    "## Part 2"
   ]
  },
  {
   "cell_type": "code",
   "execution_count": 4,
   "metadata": {},
   "outputs": [
    {
     "data": {
      "text/html": [
       "<div>\n",
       "<style scoped>\n",
       "    .dataframe tbody tr th:only-of-type {\n",
       "        vertical-align: middle;\n",
       "    }\n",
       "\n",
       "    .dataframe tbody tr th {\n",
       "        vertical-align: top;\n",
       "    }\n",
       "\n",
       "    .dataframe thead th {\n",
       "        text-align: right;\n",
       "    }\n",
       "</style>\n",
       "<table border=\"1\" class=\"dataframe\">\n",
       "  <thead>\n",
       "    <tr style=\"text-align: right;\">\n",
       "      <th></th>\n",
       "      <th>input</th>\n",
       "    </tr>\n",
       "  </thead>\n",
       "  <tbody>\n",
       "    <tr>\n",
       "      <th>0</th>\n",
       "      <td>2911threeninesdvxvheightwobm</td>\n",
       "    </tr>\n",
       "    <tr>\n",
       "      <th>1</th>\n",
       "      <td>3three16xsxhpnqmzmnine8one</td>\n",
       "    </tr>\n",
       "    <tr>\n",
       "      <th>2</th>\n",
       "      <td>seven5khtwo891hlb</td>\n",
       "    </tr>\n",
       "    <tr>\n",
       "      <th>3</th>\n",
       "      <td>sixthreeqpzjpn195</td>\n",
       "    </tr>\n",
       "    <tr>\n",
       "      <th>4</th>\n",
       "      <td>jrnf3</td>\n",
       "    </tr>\n",
       "    <tr>\n",
       "      <th>...</th>\n",
       "      <td>...</td>\n",
       "    </tr>\n",
       "    <tr>\n",
       "      <th>995</th>\n",
       "      <td>7783twonineeight</td>\n",
       "    </tr>\n",
       "    <tr>\n",
       "      <th>996</th>\n",
       "      <td>1fourfour</td>\n",
       "    </tr>\n",
       "    <tr>\n",
       "      <th>997</th>\n",
       "      <td>4fourztnthreeone8mqmdfour</td>\n",
       "    </tr>\n",
       "    <tr>\n",
       "      <th>998</th>\n",
       "      <td>fbfvqgvqfone5nctdcdpteighttwo</td>\n",
       "    </tr>\n",
       "    <tr>\n",
       "      <th>999</th>\n",
       "      <td>dhfbhone4fourlgzftg</td>\n",
       "    </tr>\n",
       "  </tbody>\n",
       "</table>\n",
       "<p>1000 rows × 1 columns</p>\n",
       "</div>"
      ],
      "text/plain": [
       "                             input\n",
       "0     2911threeninesdvxvheightwobm\n",
       "1       3three16xsxhpnqmzmnine8one\n",
       "2                seven5khtwo891hlb\n",
       "3                sixthreeqpzjpn195\n",
       "4                            jrnf3\n",
       "..                             ...\n",
       "995               7783twonineeight\n",
       "996                      1fourfour\n",
       "997      4fourztnthreeone8mqmdfour\n",
       "998  fbfvqgvqfone5nctdcdpteighttwo\n",
       "999            dhfbhone4fourlgzftg\n",
       "\n",
       "[1000 rows x 1 columns]"
      ]
     },
     "execution_count": 4,
     "metadata": {},
     "output_type": "execute_result"
    }
   ],
   "source": [
    "df =  pd.read_csv(filename, names=['input'])\n",
    "df"
   ]
  },
  {
   "cell_type": "code",
   "execution_count": 5,
   "metadata": {},
   "outputs": [],
   "source": [
    "def extract_and_concatenate(input_string):\n",
    "    # Mapping of number words to digits\n",
    "    number_word_to_digit = {\n",
    "        \"one\": 1, \"two\": 2, \"three\": 3, \"four\": 4, \"five\": 5, \n",
    "        \"six\": 6, \"seven\": 7, \"eight\": 8, \"nine\": 9, \"zero\": 0\n",
    "    }\n",
    "\n",
    "    # Regular expression pattern with lookahead for digits or number words\n",
    "    pattern = r'(?=(\\d|one|two|three|four|five|six|seven|eight|nine|zero))'\n",
    "\n",
    "    # Find all matches\n",
    "    matches = list(re.finditer(pattern, input_string))\n",
    "    if matches:\n",
    "        # Extract the first and last match\n",
    "        first_match = matches[0].group(1)\n",
    "        last_match = matches[-1].group(1)\n",
    "\n",
    "        # Convert the number words to digits\n",
    "        first_number = number_word_to_digit.get(first_match, first_match)\n",
    "        last_number = number_word_to_digit.get(last_match, last_match)\n",
    "\n",
    "        # Concatenate these numbers to form a two-digit number\n",
    "        concatenated_number = f\"{first_number}{last_number}\"\n",
    "        return concatenated_number\n",
    "    else:\n",
    "        raise ValueError"
   ]
  },
  {
   "cell_type": "code",
   "execution_count": 6,
   "metadata": {},
   "outputs": [
    {
     "data": {
      "text/plain": [
       "['83', '79', '29', '21', '83', '13', '42', '14', '76', '33', '11', '14', '77']"
      ]
     },
     "execution_count": 6,
     "metadata": {},
     "output_type": "execute_result"
    }
   ],
   "source": [
    "# Test the function with the provided examples\n",
    "test_strings = [\n",
    "    \"eighthree\", \"sevenine\", \"two1nine\", \"twotwone\", \"eightwothree\",\n",
    "    \"abcone2threexyz\", \"4nineeightseven2\", \"zoneight234\", \"7pqrstsixteen\", \"qwef3\", \"onenoid\", \"124\", \"7\"\n",
    "]\n",
    "\n",
    "[extract_and_concatenate(s) for s in test_strings]"
   ]
  },
  {
   "cell_type": "code",
   "execution_count": 7,
   "metadata": {},
   "outputs": [
    {
     "data": {
      "text/html": [
       "<div>\n",
       "<style scoped>\n",
       "    .dataframe tbody tr th:only-of-type {\n",
       "        vertical-align: middle;\n",
       "    }\n",
       "\n",
       "    .dataframe tbody tr th {\n",
       "        vertical-align: top;\n",
       "    }\n",
       "\n",
       "    .dataframe thead th {\n",
       "        text-align: right;\n",
       "    }\n",
       "</style>\n",
       "<table border=\"1\" class=\"dataframe\">\n",
       "  <thead>\n",
       "    <tr style=\"text-align: right;\">\n",
       "      <th></th>\n",
       "      <th>input</th>\n",
       "      <th>number</th>\n",
       "    </tr>\n",
       "  </thead>\n",
       "  <tbody>\n",
       "    <tr>\n",
       "      <th>0</th>\n",
       "      <td>2911threeninesdvxvheightwobm</td>\n",
       "      <td>22</td>\n",
       "    </tr>\n",
       "    <tr>\n",
       "      <th>1</th>\n",
       "      <td>3three16xsxhpnqmzmnine8one</td>\n",
       "      <td>31</td>\n",
       "    </tr>\n",
       "    <tr>\n",
       "      <th>2</th>\n",
       "      <td>seven5khtwo891hlb</td>\n",
       "      <td>71</td>\n",
       "    </tr>\n",
       "    <tr>\n",
       "      <th>3</th>\n",
       "      <td>sixthreeqpzjpn195</td>\n",
       "      <td>65</td>\n",
       "    </tr>\n",
       "    <tr>\n",
       "      <th>4</th>\n",
       "      <td>jrnf3</td>\n",
       "      <td>33</td>\n",
       "    </tr>\n",
       "    <tr>\n",
       "      <th>...</th>\n",
       "      <td>...</td>\n",
       "      <td>...</td>\n",
       "    </tr>\n",
       "    <tr>\n",
       "      <th>995</th>\n",
       "      <td>7783twonineeight</td>\n",
       "      <td>78</td>\n",
       "    </tr>\n",
       "    <tr>\n",
       "      <th>996</th>\n",
       "      <td>1fourfour</td>\n",
       "      <td>14</td>\n",
       "    </tr>\n",
       "    <tr>\n",
       "      <th>997</th>\n",
       "      <td>4fourztnthreeone8mqmdfour</td>\n",
       "      <td>44</td>\n",
       "    </tr>\n",
       "    <tr>\n",
       "      <th>998</th>\n",
       "      <td>fbfvqgvqfone5nctdcdpteighttwo</td>\n",
       "      <td>12</td>\n",
       "    </tr>\n",
       "    <tr>\n",
       "      <th>999</th>\n",
       "      <td>dhfbhone4fourlgzftg</td>\n",
       "      <td>14</td>\n",
       "    </tr>\n",
       "  </tbody>\n",
       "</table>\n",
       "<p>1000 rows × 2 columns</p>\n",
       "</div>"
      ],
      "text/plain": [
       "                             input  number\n",
       "0     2911threeninesdvxvheightwobm      22\n",
       "1       3three16xsxhpnqmzmnine8one      31\n",
       "2                seven5khtwo891hlb      71\n",
       "3                sixthreeqpzjpn195      65\n",
       "4                            jrnf3      33\n",
       "..                             ...     ...\n",
       "995               7783twonineeight      78\n",
       "996                      1fourfour      14\n",
       "997      4fourztnthreeone8mqmdfour      44\n",
       "998  fbfvqgvqfone5nctdcdpteighttwo      12\n",
       "999            dhfbhone4fourlgzftg      14\n",
       "\n",
       "[1000 rows x 2 columns]"
      ]
     },
     "execution_count": 7,
     "metadata": {},
     "output_type": "execute_result"
    }
   ],
   "source": [
    "df['number']=df['input'].apply(lambda x: extract_and_concatenate(x)).astype(int)\n",
    "df"
   ]
  },
  {
   "cell_type": "code",
   "execution_count": 8,
   "metadata": {},
   "outputs": [
    {
     "data": {
      "text/plain": [
       "53389"
      ]
     },
     "execution_count": 8,
     "metadata": {},
     "output_type": "execute_result"
    }
   ],
   "source": [
    "df.number.sum()"
   ]
  }
 ],
 "metadata": {
  "kernelspec": {
   "display_name": "advent",
   "language": "python",
   "name": "python3"
  },
  "language_info": {
   "codemirror_mode": {
    "name": "ipython",
    "version": 3
   },
   "file_extension": ".py",
   "mimetype": "text/x-python",
   "name": "python",
   "nbconvert_exporter": "python",
   "pygments_lexer": "ipython3",
   "version": "3.11.6"
  }
 },
 "nbformat": 4,
 "nbformat_minor": 2
}
