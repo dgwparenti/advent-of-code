{
 "cells": [
  {
   "cell_type": "code",
   "execution_count": 16,
   "metadata": {},
   "outputs": [],
   "source": [
    "# import packages\n",
    "import re"
   ]
  },
  {
   "cell_type": "code",
   "execution_count": 17,
   "metadata": {},
   "outputs": [],
   "source": [
    "filname = \"day3-input.txt\"\n",
    "filename = \"test.txt\"\n",
    "with open(filename) as f:\n",
    "    schematic = f.read()"
   ]
  },
  {
   "cell_type": "code",
   "execution_count": 18,
   "metadata": {},
   "outputs": [
    {
     "data": {
      "text/plain": [
       "'467..114..\\n...*......\\n..35..633.\\n......#...\\n617*......\\n.....+.58.\\n..592.....\\n......755.\\n...$.*....\\n.664.598..'"
      ]
     },
     "execution_count": 18,
     "metadata": {},
     "output_type": "execute_result"
    }
   ],
   "source": [
    "schematic"
   ]
  },
  {
   "cell_type": "code",
   "execution_count": 25,
   "metadata": {},
   "outputs": [],
   "source": [
    "def calculate_part_number_sum(schematic):\n",
    "    rows = schematic.split('\\n')  # Split the schematic into rows\n",
    "    height = len(rows)\n",
    "    width = len(rows[0]) if height > 0 else 0\n",
    "    sum_of_parts = 0  # Initialize the sum\n",
    "    already_added = set()  # Set to keep track of numbers already added to the sum\n",
    "\n",
    "    for y in range(height):\n",
    "        for x in range(width):\n",
    "            char = rows[y][x]\n",
    "            if char.isdigit():  # Check if the character is a digit\n",
    "                # Check if this digit is part of a number we've already processed\n",
    "                if (y, x) in already_added:\n",
    "                    continue\n",
    "\n",
    "                # Find the full number this digit is part of\n",
    "                full_number, end_x = get_full_number(rows, y, x)\n",
    "                number_coords = set((y, xi) for xi in range(x, end_x))\n",
    "\n",
    "                # Check adjacent cells for symbols\n",
    "                if has_adjacent_symbol(rows, y, x, end_x, height, width):\n",
    "                    sum_of_parts += int(full_number)\n",
    "                    already_added.update(number_coords)\n",
    "\n",
    "\n",
    "    return sum_of_parts\n",
    "\n",
    "def get_full_number(rows, y, x):\n",
    "    number = rows[y][x]\n",
    "    while x + 1 < len(rows[y]) and rows[y][x + 1].isdigit():\n",
    "        x += 1\n",
    "        number += rows[y][x]\n",
    "    return number, x + 1\n",
    "\n",
    "def has_adjacent_symbol(rows, y, start_x, end_x, height, width):\n",
    "    symbol_regex = re.compile(r'[^\\w.]')\n",
    "    for yi in range(y - 1, y + 2):\n",
    "        for xi in range(start_x - 1, end_x + 1):\n",
    "            if 0 <= yi < height and 0 <= xi < width:\n",
    "                if symbol_regex.match(rows[yi][xi]):\n",
    "                    return True\n",
    "    return False\n"
   ]
  },
  {
   "cell_type": "code",
   "execution_count": 26,
   "metadata": {},
   "outputs": [
    {
     "data": {
      "text/plain": [
       "4361"
      ]
     },
     "execution_count": 26,
     "metadata": {},
     "output_type": "execute_result"
    }
   ],
   "source": [
    "calculate_part_number_sum(schematic)"
   ]
  },
  {
   "cell_type": "code",
   "execution_count": null,
   "metadata": {},
   "outputs": [],
   "source": []
  }
 ],
 "metadata": {
  "kernelspec": {
   "display_name": "advent",
   "language": "python",
   "name": "python3"
  },
  "language_info": {
   "codemirror_mode": {
    "name": "ipython",
    "version": 3
   },
   "file_extension": ".py",
   "mimetype": "text/x-python",
   "name": "python",
   "nbconvert_exporter": "python",
   "pygments_lexer": "ipython3",
   "version": "3.11.6"
  }
 },
 "nbformat": 4,
 "nbformat_minor": 2
}
